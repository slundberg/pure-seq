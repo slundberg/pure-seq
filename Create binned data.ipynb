{
 "cells": [
  {
   "cell_type": "markdown",
   "metadata": {},
   "source": [
    "<h2>Create binned data</h2>"
   ]
  },
  {
   "cell_type": "code",
   "execution_count": 4,
   "metadata": {
    "collapsed": true
   },
   "outputs": [],
   "source": [
    "addprocs(12)\n",
    "@everywhere using PureSeq"
   ]
  },
  {
   "cell_type": "markdown",
   "metadata": {},
   "source": [
    "<h3>Create 100 bp binned data for both forward and reverse reads</h3>"
   ]
  },
  {
   "cell_type": "code",
   "execution_count": 5,
   "metadata": {
    "collapsed": false
   },
   "outputs": [],
   "source": [
    "@everywhere dataRoot = \"/scratch2/slund1/ENCSR000BQS_notebook\"\n",
    "@parallel for file in readdir(dataRoot)\n",
    "    if ismatch(r\"\\.bam$\", file)\n",
    "        if !isfile(\"$dataRoot/$file.fbin100\")\n",
    "            write_binned(\"$dataRoot/$file\", 100, false)\n",
    "        end\n",
    "        if !isfile(\"$dataRoot/$file.rbin100\")\n",
    "            write_binned(\"$dataRoot/$file\", 100, true)\n",
    "        end\n",
    "    end\n",
    "end"
   ]
  },
  {
   "cell_type": "code",
   "execution_count": null,
   "metadata": {
    "collapsed": true
   },
   "outputs": [],
   "source": []
  }
 ],
 "metadata": {
  "kernelspec": {
   "display_name": "Julia 0.3.1-pre",
   "language": "julia",
   "name": "julia 0.3"
  },
  "language_info": {
   "name": "julia",
   "version": "0.3.1"
  }
 },
 "nbformat": 4,
 "nbformat_minor": 0
}
