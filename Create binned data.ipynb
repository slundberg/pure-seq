{
 "cells": [
  {
   "cell_type": "markdown",
   "metadata": {},
   "source": [
    "<h2>Create binned data</h2>"
   ]
  },
  {
   "cell_type": "code",
   "execution_count": 1,
   "metadata": {
    "collapsed": true
   },
   "outputs": [],
   "source": [
    "#addprocs(10)\n",
    "@everywhere using PureSeq"
   ]
  },
  {
   "cell_type": "markdown",
   "metadata": {},
   "source": [
    "<h3>Create 100 bp binned data for both forward and reverse reads</h3>"
   ]
  },
  {
   "cell_type": "code",
   "execution_count": 2,
   "metadata": {
    "collapsed": false
   },
   "outputs": [],
   "source": [
    "# targetId = \"ENCFF000NYK\"\n",
    "# controlIds = [\n",
    "#     35 => vec(readdlm(\"/scratch2/slund1/pure-seq/controlIds_35.txt\")),\n",
    "#     100 => vec(readdlm(\"/scratch2/slund1/pure-seq/controlIds_100.txt\")),\n",
    "#     442 => vec(readdlm(\"/scratch2/slund1/pure-seq/controlIds_442.txt\")),\n",
    "#     \"NYK_119\" => vec(readdlm(\"/scratch2/slund1/pure-seq/targetIds_NYK_119.txt\"))\n",
    "# ]\n",
    "@everywhere dataRoot = \"/scratch2/slund1/ENCSR000BQS_notebook\"\n",
    "@everywhere root = \"/scratch2/slund1/pure-seq/binned_data\"\n",
    "# @parallel for file in readdir(dataRoot)\n",
    "#     if ismatch(r\"\\.bam$\", file)\n",
    "#         if !isfile(\"$dataRoot/$file.fbin100\")\n",
    "#             write_binned(\"$dataRoot/$file\", 100, false)\n",
    "#         end\n",
    "#         if !isfile(\"$dataRoot/$file.rbin100\")\n",
    "#             write_binned(\"$dataRoot/$file\", 100, true)\n",
    "#         end\n",
    "#     end\n",
    "# end"
   ]
  },
  {
   "cell_type": "code",
   "execution_count": 3,
   "metadata": {
    "collapsed": false
   },
   "outputs": [],
   "source": [
    "# for id in [targetId, controlIds[35]]\n",
    "#     println(id)\n",
    "#     if isfile(\"$dataRoot/$id.bam\")\n",
    "#         mv(\"$dataRoot/$id.bam\", \"$outRoot/$id.bam\")\n",
    "#     end\n",
    "# end\n",
    "#mv(\"$dataRoot/ENCFF000NYN.bam\", \"$root/ENCFF000NYN.bam\")"
   ]
  },
  {
   "cell_type": "code",
   "execution_count": 6,
   "metadata": {
    "collapsed": false
   },
   "outputs": [
    {
     "name": "stdout",
     "output_type": "stream",
     "text": [
      "/scratch2/slund1/pure-seq/binned_data/ENCFF000ARP.bam\n"
     ]
    },
    {
     "ename": "LoadError",
     "evalue": "read: end of file\nwhile loading In[6], in expression starting on line 2",
     "output_type": "error",
     "traceback": [
      "read: end of file\nwhile loading In[6], in expression starting on line 2",
      "",
      " in gzgetc at /homes/gws/slund1/.julia/v0.3/GZip/src/GZip.jl:124",
      " in read at /homes/gws/slund1/.julia/v0.3/GZip/src/GZip.jl:377",
      " in read! at io.jl:127",
      " in BamReader at /homes/gws/slund1/.julia/v0.3/PureSeq/src/BamReader.jl:18",
      " in write_binned at /homes/gws/slund1/.julia/v0.3/PureSeq/src/BinnedReader.jl:29",
      " in anonymous at no file:6"
     ]
    }
   ],
   "source": [
    "#@parallel \n",
    "for file in readdir(root)\n",
    "    if ismatch(r\"\\.bam$\", file)\n",
    "        if !isfile(\"$root/$file.fbin100\")\n",
    "            println(\"$root/$file\")\n",
    "            write_binned(\"$root/$file\", 100, false, skipDup=true)\n",
    "        end\n",
    "        if !isfile(\"$root/$file.rbin100\")\n",
    "            write_binned(\"$root/$file\", 100, true, skipDup=true)\n",
    "        end\n",
    "    end\n",
    "end"
   ]
  },
  {
   "cell_type": "code",
   "execution_count": null,
   "metadata": {
    "collapsed": true
   },
   "outputs": [],
   "source": []
  }
 ],
 "metadata": {
  "kernelspec": {
   "display_name": "Julia 0.3.1-pre",
   "language": "julia",
   "name": "julia 0.3"
  },
  "language_info": {
   "name": "julia",
   "version": "0.3.1"
  }
 },
 "nbformat": 4,
 "nbformat_minor": 0
}
