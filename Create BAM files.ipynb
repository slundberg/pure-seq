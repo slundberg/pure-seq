{
 "cells": [
  {
   "cell_type": "markdown",
   "metadata": {},
   "source": [
    "<h2>Create BAM files</h2>\n",
    "\n",
    "This builds BAM files for later processing.\n"
   ]
  },
  {
   "cell_type": "markdown",
   "metadata": {},
   "source": [
    "<h3>Load Metadata</h3>"
   ]
  },
  {
   "cell_type": "code",
   "execution_count": 1,
   "metadata": {
    "collapsed": true
   },
   "outputs": [],
   "source": [
    "# find out the target label and other metadata of all the experiments\n",
    "metadataDir = \"/homes/gws/slund1/projects/genomic-structure-learning/data/metadata\"\n",
    "metadata = Dict()\n",
    "for file in readdir(metadataDir)\n",
    "    obj = open(f->JSON.parse(readall(f)), \"$metadataDir/$file\")\n",
    "    metadata[obj[\"accession\"]] = obj\n",
    "end"
   ]
  },
  {
   "cell_type": "markdown",
   "metadata": {},
   "source": [
    "<h3>Download the FASTQ Files for all controls and REST tracks and then create sorted BAMs</h3>"
   ]
  },
  {
   "cell_type": "code",
   "execution_count": 2,
   "metadata": {
    "collapsed": false
   },
   "outputs": [
    {
     "data": {
      "text/plain": [
       "map_file (generic function with 1 method)"
      ]
     },
     "execution_count": 2,
     "metadata": {},
     "output_type": "execute_result"
    }
   ],
   "source": [
    "function process_files(dataRoot, filterFunc)\n",
    "    currDir = pwd()\n",
    "    \n",
    "    # download the fastq files\n",
    "    cd(dataRoot)\n",
    "    for id in keys(metadata)\n",
    "        obj = metadata[id]\n",
    "\n",
    "        if filterFunc(obj)\n",
    "            for file in obj[\"files\"]\n",
    "                asc = file[\"accession\"]\n",
    "                if file[\"file_format\"] == \"fastq\" && !isfile(\"$asc.fastq.gz\")\n",
    "                    try \n",
    "                        println(\"Downloading \", file[\"accession\"], \"...\")\n",
    "                        run(`wget -q https://www.encodeproject.org/files/$asc/@@download/$asc.fastq.gz`)\n",
    "                    catch e\n",
    "                        println(\"Error! $e\\n\")\n",
    "                    end\n",
    "                end\n",
    "            end\n",
    "        end\n",
    "    end\n",
    "    \n",
    "    # create BAM files\n",
    "    for id in keys(metadata)\n",
    "        obj = metadata[id]\n",
    "        if filterFunc(obj)\n",
    "            for file in obj[\"files\"]\n",
    "                asc = file[\"accession\"]\n",
    "                if file[\"file_format\"] == \"fastq\" && isfile(\"$asc.fastq.gz\")\n",
    "                    if !isfile(\"$dataRoot/$asc.bam\")\n",
    "                        println(\"Mapping $asc...\")\n",
    "                        map_file(\"$dataRoot/$asc.fastq.gz\", \"$dataRoot/$asc.bam\")\n",
    "                    end\n",
    "                end\n",
    "            end\n",
    "        end\n",
    "    end\n",
    "    \n",
    "    cd(currDir)\n",
    "end\n",
    "\n",
    "function map_file(gzippedFastqFile, outBamFile)\n",
    "    rootName = replace(gzippedFastqFile, r\"\\.fastq.gz\", \"\")\n",
    "    bowtie2Index = \"/homes/gws/slund1/projects/genomic-structure-learning/data/bowtie/hg38\"\n",
    "    run(\n",
    "        `zcat $gzippedFastqFile` |>\n",
    "        `bowtie2 -p 20 -x $bowtie2Index -U -` |> \n",
    "        `samtools view -bS -` |>\n",
    "        \"$(rootName)_unsorted.bam\"\n",
    "    )\n",
    "    outBamFile = replace(outBamFile, r\"\\.bam\", \"\") # samtools will add the .bam automatically\n",
    "    run(`samtools sort $(rootName)_unsorted.bam $outBamFile -@ 10`)\n",
    "    rm(\"$(rootName)_unsorted.bam\")\n",
    "end"
   ]
  },
  {
   "cell_type": "code",
   "execution_count": 3,
   "metadata": {
    "collapsed": false
   },
   "outputs": [
    {
     "data": {
      "text/plain": [
       "167"
      ]
     },
     "execution_count": 3,
     "metadata": {},
     "output_type": "execute_result"
    }
   ],
   "source": [
    "length(collect(filter(o->\"GM12878\" == o[\"biosample_term_name\"], values(metadata))))"
   ]
  },
  {
   "cell_type": "code",
   "execution_count": null,
   "metadata": {
    "collapsed": false
   },
   "outputs": [
    {
     "name": "stdout",
     "output_type": "stream",
     "text": [
      "Downloading ENCFF000NSW...\n"
     ]
    }
   ],
   "source": [
    "process_files(\"/scratch2/slund1/pure-seq/binned_data\", o->\"GM12878\" == o[\"biosample_term_name\"])"
   ]
  },
  {
   "cell_type": "code",
   "execution_count": null,
   "metadata": {
    "collapsed": true
   },
   "outputs": [],
   "source": []
  },
  {
   "cell_type": "code",
   "execution_count": null,
   "metadata": {
    "collapsed": true
   },
   "outputs": [],
   "source": []
  }
 ],
 "metadata": {
  "kernelspec": {
   "display_name": "Julia 0.3.1-pre",
   "language": "julia",
   "name": "julia 0.3"
  },
  "language_info": {
   "name": "julia",
   "version": "0.3.1"
  }
 },
 "nbformat": 4,
 "nbformat_minor": 0
}
