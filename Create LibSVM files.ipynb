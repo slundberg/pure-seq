{
 "cells": [
  {
   "cell_type": "markdown",
   "metadata": {},
   "source": [
    "<h2>Create LibSVM files</h2>\n",
    "\n",
    "Here we create libSVM files that we can use for running XGBoost."
   ]
  },
  {
   "cell_type": "code",
   "execution_count": 12,
   "metadata": {
    "collapsed": true
   },
   "outputs": [],
   "source": [
    "using PureSeq"
   ]
  },
  {
   "cell_type": "code",
   "execution_count": 13,
   "metadata": {
    "collapsed": false
   },
   "outputs": [
    {
     "data": {
      "text/plain": [
       "write_libsvm_data (generic function with 1 method)"
      ]
     },
     "execution_count": 13,
     "metadata": {},
     "output_type": "execute_result"
    }
   ],
   "source": [
    "function write_libsvm_data(stream, targetFile, controlFiles; contextSize=4, blockSize=1000, blockLimit=Inf)\n",
    "    \n",
    "    # create our readers\n",
    "    readers = [ContextMap(BinnedReader(controlFiles[i]), contextSize, contextSize) for i in 1:length(controlFiles)]\n",
    "    target = BinnedReader(targetFile)\n",
    "    \n",
    "    # we want to compute XtX and Xty block by block\n",
    "    printInterval = max(1,int(min(blockLimit, int(sum(ReferenceContigs_hg38.sizes)/blockSize))/10))\n",
    "    \n",
    "    # use denseblocks to iterate over blocks of the target and control data\n",
    "    count = 0\n",
    "    for (target,control) in zip(denseblocks([target], blockSize), denseblocks(readers, blockSize, loop=true))\n",
    "        count += 1\n",
    "        if count > blockLimit break end\n",
    "        \n",
    "        for i in 1:blockSize\n",
    "            print(stream, int(target[i]),\" \")\n",
    "            for j in 1:size(control)[2]\n",
    "                if control[i,j] != 0.0\n",
    "                    print(stream, j,\":\",int(control[i,j]),\" \")\n",
    "                end\n",
    "            end\n",
    "            println(stream)\n",
    "        end\n",
    "        \n",
    "        if count % printInterval == 0\n",
    "            println(\"Processed $(count*blockSize) positions...\")\n",
    "        end\n",
    "    end\n",
    "end"
   ]
  },
  {
   "cell_type": "code",
   "execution_count": 16,
   "metadata": {
    "collapsed": true
   },
   "outputs": [],
   "source": [
    "# find out the target label and other metadata of all the experiments\n",
    "metadataDir = \"/homes/gws/slund1/projects/genomic-structure-learning/data/metadata\"\n",
    "metadata = Dict()\n",
    "for file in readdir(metadataDir)\n",
    "    obj = open(f->JSON.parse(readall(f)), \"$metadataDir/$file\")\n",
    "    metadata[obj[\"accession\"]] = obj\n",
    "end"
   ]
  },
  {
   "cell_type": "code",
   "execution_count": 18,
   "metadata": {
    "collapsed": false
   },
   "outputs": [],
   "source": [
    "ids = collect(map(o->o[\"accession\"], filter(o->\"GM12878\" == o[\"biosample_term_name\"], values(metadata))));"
   ]
  },
  {
   "cell_type": "code",
   "execution_count": 24,
   "metadata": {
    "collapsed": false
   },
   "outputs": [
    {
     "data": {
      "text/plain": [
       "Dict{String,Any} with 41 entries:\n",
       "  \"system_slims\"         => {}\n",
       "  \"alternate_accessions\" => {}\n",
       "  \"lab\"                  => [\"postal_code\"=>\"94305-5120\",\"state\"=>\"CA\",\"name\"=>…\n",
       "  \"run_type\"             => \"Single-ended\"\n",
       "  \"documents\"            => {}\n",
       "  \"visualize_ucsc\"       => \"http://genome.ucsc.edu/cgi-bin/hgHubConnect?hgHub_…\n",
       "  \"date_created\"         => \"2014-02-12T22:36:47.854769+00:00\"\n",
       "  \"award\"                => [\"name\"=>\"U54HG004558\",\"status\"=>\"disabled\",\"rfa\"=>…\n",
       "  \"biosample_type\"       => \"immortalized cell line\"\n",
       "  \"related_files\"        => {}\n",
       "  \"biosample_synonyms\"   => {\" K562 cell\",\"K-562\",\"K-562 cell\"}\n",
       "  \"aliases\"              => {}\n",
       "  \"month_released\"       => \"May, 2012\"\n",
       "  \"assembly\"             => {\"hg19\"}\n",
       "  \"status\"               => \"released\"\n",
       "  \"accession\"            => \"ENCSR000EGG\"\n",
       "  \"developmental_slims\"  => {}\n",
       "  \"files\"                => {[\"lab\"=>\"/labs/michael-snyder/\",\"alternate_accessi…\n",
       "  \"dbxrefs\"              => {\"UCSC-ENCODE-hg19:wgEncodeEH002814\",\"GEO:GSM935439…\n",
       "  \"target\"               => [\"label\"=>\"RCOR1\",\"aliases\"=>{},\"organism\"=>[\"name\"…\n",
       "  \"possible_controls\"    => {[\"system_slims\"=>{},\"alternate_accessions\"=>{},\"ru…\n",
       "  \"description\"          => \"RCOR1 ChIP-seq on human K562 produced by the Snyde…\n",
       "  \"references\"           => {}\n",
       "  \"@id\"                  => \"/experiments/ENCSR000EGG/\"\n",
       "  \"date_released\"        => \"2012-05-14\"\n",
       "  ⋮                      => ⋮"
      ]
     },
     "execution_count": 24,
     "metadata": {},
     "output_type": "execute_result"
    }
   ],
   "source": [
    "first(values(metadata))"
   ]
  },
  {
   "cell_type": "code",
   "execution_count": 28,
   "metadata": {
    "collapsed": false
   },
   "outputs": [
    {
     "name": "stdout",
     "output_type": "stream",
     "text": [
      "Mapped ENCFF000WGW...\n",
      "Mapped ENCFF000WGX...\n",
      "Mapped ENCFF000NWT...\n",
      "Mapped ENCFF000NWV...\n",
      "Mapped ENCFF000NWE...\n",
      "Mapped ENCFF000NWG...\n",
      "Mapped ENCFF002BFM...\n",
      "Mapped ENCFF002BFN...\n",
      "Mapped ENCFF002EJZ...\n",
      "Mapped ENCFF002EKA...\n",
      "Mapped ENCFF002EKB...\n",
      "Mapped ENCFF002EKC...\n",
      "Mapped ENCFF001HHX...\n",
      "Mapped ENCFF001HIA...\n",
      "Mapped ENCFF000OFK...\n",
      "Mapped ENCFF000OFM...\n",
      "Mapped ENCFF002EDB...\n",
      "Mapped ENCFF002EDC...\n",
      "Mapped ENCFF000NWM...\n",
      "Mapped ENCFF000NWN...\n",
      "Mapped ENCFF000WDW...\n",
      "Mapped ENCFF000WDY...\n",
      "Mapped ENCFF000WHO...\n",
      "Mapped ENCFF000WHR...\n",
      "Mapped ENCFF002BFQ...\n",
      "Mapped ENCFF002BFR...\n",
      "Mapped ENCFF002EBQ...\n",
      "Mapped ENCFF002EBR...\n",
      "Mapped ENCFF000AUC...\n",
      "Mapped ENCFF000AUD...\n",
      "Mapped ENCFF000VSY...\n",
      "Mapped ENCFF000VTI...\n",
      "Mapped ENCFF002EKI...\n",
      "Mapped ENCFF002EKJ...\n",
      "Mapped ENCFF002EKM...\n",
      "Mapped ENCFF002EKT...\n",
      "Mapped ENCFF000VSS...\n",
      "Mapped ENCFF000VSV...\n",
      "Mapped ENCFF000OEH...\n",
      "Mapped ENCFF000OEJ...\n",
      "Mapped ENCFF000VUU...\n",
      "Mapped ENCFF000VUW...\n",
      "Mapped ENCFF002DOM...\n",
      "Mapped ENCFF002DOQ...\n",
      "Mapped ENCFF002EHO...\n",
      "Mapped ENCFF002EHP...\n",
      "Mapped ENCFF000OAD...\n",
      "Mapped ENCFF000OAF...\n",
      "Mapped ENCFF000WEY...\n",
      "Mapped ENCFF000WFA...\n",
      "Mapped ENCFF000OEP...\n",
      "Mapped ENCFF000OEQ...\n",
      "Mapped ENCFF000NSW...\n",
      "Mapped ENCFF000NSX...\n",
      "Mapped ENCFF000NUP...\n",
      "Mapped ENCFF000NUV...\n",
      "Mapped ENCFF000VVP...\n",
      "Mapped ENCFF000VVQ...\n",
      "Mapped ENCFF000WAV...\n",
      "Mapped ENCFF000WAX...\n",
      "Mapped ENCFF000ROU...\n",
      "Mapped ENCFF000ROX...\n",
      "Mapped ENCFF000ROZ...\n",
      "Mapped ENCFF000AVB...\n",
      "Mapped ENCFF000AVC...\n",
      "Mapped ENCFF000VXD...\n",
      "Mapped ENCFF000VXI...\n",
      "Mapped ENCFF000NSE...\n",
      "Mapped ENCFF000NSG...\n",
      "Mapped ENCFF000VUJ...\n",
      "Mapped ENCFF000VUL...\n",
      "Mapped ENCFF000NVQ...\n",
      "Mapped ENCFF000NVV...\n",
      "Mapped ENCFF000NTD...\n",
      "Mapped ENCFF000NTH...\n",
      "Mapped ENCFF000ASR...\n",
      "Mapped ENCFF000AUB...\n",
      "Mapped ENCFF000VVV...\n",
      "Mapped ENCFF000VVX...\n",
      "Mapped ENCFF000AUK...\n",
      "Mapped ENCFF000AUO...\n",
      "Mapped ENCFF000AUP...\n",
      "Mapped ENCFF000NVC...\n",
      "Mapped ENCFF000NVF...\n",
      "Mapped ENCFF000NYH...\n",
      "Mapped ENCFF000NYJ...\n",
      "Mapped ENCFF000WCR...\n",
      "Mapped ENCFF000WCS...\n",
      "Mapped ENCFF000OAS...\n",
      "Mapped ENCFF000OAU...\n",
      "Mapped ENCFF000OHH...\n",
      "Mapped ENCFF000OHO...\n",
      "Mapped ENCFF002EBN...\n",
      "Mapped ENCFF002EBT...\n",
      "Mapped ENCFF000NXE...\n",
      "Mapped ENCFF000NXJ...\n",
      "Mapped ENCFF000OFJ...\n",
      "Mapped ENCFF000OFL...\n",
      "Mapped ENCFF000RPI...\n",
      "Mapped ENCFF000RPL...\n",
      "Mapped ENCFF000VZR...\n",
      "Mapped ENCFF000VZT...\n",
      "Mapped ENCFF000NUK...\n",
      "Mapped ENCFF000NUL...\n",
      "Mapped ENCFF000VTF...\n",
      "Mapped ENCFF000VTG...\n",
      "Mapped ENCFF000VTH...\n",
      "Mapped ENCFF000ARP...\n",
      "Mapped ENCFF000ARV...\n",
      "Mapped ENCFF000WBP...\n",
      "Mapped ENCFF000WBR...\n",
      "Mapped ENCFF002EKZ...\n",
      "Mapped ENCFF002ELA...\n",
      "Mapped ENCFF002ELB...\n",
      "Mapped ENCFF002ELE...\n",
      "Mapped ENCFF000NZG...\n",
      "Mapped ENCFF000NYN...\n",
      "Mapped ENCFF000NYY...\n",
      "Mapped ENCFF000NZA...\n"
     ]
    }
   ],
   "source": [
    "targetIds = ASCIIString[]\n",
    "for id in keys(metadata)\n",
    "    obj = metadata[id]\n",
    "    if \"GM12878\" == obj[\"biosample_term_name\"] && !ismatch(r\"[Cc]ontrol\", obj[\"target\"][\"label\"])\n",
    "        for file in obj[\"files\"]\n",
    "            asc = file[\"accession\"]\n",
    "            if file[\"file_format\"] == \"fastq\"# && isfile(\"$asc.fastq.gz\")\n",
    "                if isfile(\"/scratch2/slund1/pure-seq/binned_data/$asc.bam\") && asc != \"ENCFF000NYK\"\n",
    "                    push!(targetIds, asc)\n",
    "                    println(\"Mapped $asc...\")\n",
    "                end\n",
    "            end\n",
    "        end\n",
    "    end\n",
    "end"
   ]
  },
  {
   "cell_type": "code",
   "execution_count": 29,
   "metadata": {
    "collapsed": false
   },
   "outputs": [
    {
     "data": {
      "text/plain": [
       "119"
      ]
     },
     "execution_count": 29,
     "metadata": {},
     "output_type": "execute_result"
    }
   ],
   "source": [
    "length(targetIds)"
   ]
  },
  {
   "cell_type": "code",
   "execution_count": 21,
   "metadata": {
    "collapsed": true
   },
   "outputs": [],
   "source": [
    "for id in ids\n",
    "    if isfile(\"/scratch2/slund1/pure-seq/binned_data/$id.bam\")\n",
    "        println(id)\n",
    "    end\n",
    "end"
   ]
  },
  {
   "cell_type": "code",
   "execution_count": 20,
   "metadata": {
    "collapsed": false
   },
   "outputs": [
    {
     "data": {
      "text/plain": [
       "167-element Array{Any,1}:\n",
       " \"ENCSR000DZL\"\n",
       " \"ENCSR000BGY\"\n",
       " \"ENCSR000BRU\"\n",
       " \"ENCSR501DKS\"\n",
       " \"ENCSR000BGJ\"\n",
       " \"ENCSR597VGC\"\n",
       " \"ENCSR000DRZ\"\n",
       " \"ENCSR000BGE\"\n",
       " \"ENCSR459FTB\"\n",
       " \"ENCSR000BGC\"\n",
       " \"ENCSR000DYU\"\n",
       " \"ENCSR000DNQ\"\n",
       " \"ENCSR016UEH\"\n",
       " ⋮            \n",
       " \"ENCSR000DYW\"\n",
       " \"ENCSR000DZF\"\n",
       " \"ENCSR000EYX\"\n",
       " \"ENCSR009MBP\"\n",
       " \"ENCSR769ZTN\"\n",
       " \"ENCSR000EYV\"\n",
       " \"ENCSR900XDB\"\n",
       " \"ENCSR000DYP\"\n",
       " \"ENCSR000DZM\"\n",
       " \"ENCSR000DZE\"\n",
       " \"ENCSR000DYX\"\n",
       " \"ENCSR553NUG\""
      ]
     },
     "execution_count": 20,
     "metadata": {},
     "output_type": "execute_result"
    }
   ],
   "source": [
    "ids"
   ]
  },
  {
   "cell_type": "code",
   "execution_count": 31,
   "metadata": {
    "collapsed": true
   },
   "outputs": [],
   "source": [
    "targetId = \"ENCFF000NYK\"\n",
    "controlIds = [\n",
    "    35 => vec(readdlm(\"/scratch2/slund1/pure-seq/controlIds_35.txt\")),\n",
    "    100 => vec(readdlm(\"/scratch2/slund1/pure-seq/controlIds_100.txt\")),\n",
    "    442 => vec(readdlm(\"/scratch2/slund1/pure-seq/controlIds_442.txt\")),\n",
    "    \"REST-NYK\" => [\"ENCFF000NYY\", \"ENCFF000NZA\", \"ENCFF000NYN\"],\n",
    "    \"NYK_119\" => vec(readdlm(\"/scratch2/slund1/pure-seq/targetIds_NYK_119.txt\"))\n",
    "]\n",
    "root = \"/scratch2/slund1/pure-seq/binned_data\";"
   ]
  },
  {
   "cell_type": "code",
   "execution_count": 15,
   "metadata": {
    "collapsed": false,
    "scrolled": false
   },
   "outputs": [],
   "source": [
    "contextSize = 4\n",
    "numControls = \"NYK_119\"#35\n",
    "open(f->write_libsvm_data(\n",
    "    f,\n",
    "    \"$root/$targetId.bam.fbin100\",\n",
    "    [\"$root/$id.bam.fbin100\" for id in controlIds[numControls]],\n",
    "    contextSize=contextSize\n",
    "), \"/scratch2/slund1/pure-seq/forwardReads_c$(numControls)_b$(contextSize)_a$(contextSize).libsvm\", \"w\")\n",
    "# open(f->write_libsvm_data(\n",
    "#     f,\n",
    "#     \"$root/$targetId.bam.rbin100\",\n",
    "#     [\"$root/$id.bam.rbin100\" for id in controlIds[numControls]],\n",
    "#     contextSize=contextSize\n",
    "# ), \"/scratch2/slund1/pure-seq/reverseReads_c$(numControls)_b$(contextSize)_a$(contextSize).libsvm\", \"w\")"
   ]
  },
  {
   "cell_type": "code",
   "execution_count": null,
   "metadata": {
    "collapsed": false
   },
   "outputs": [],
   "source": [
    "open(f->write_libsvm_data(\n",
    "    f,\n",
    "    \"$root/$targetId.bam.fbin100\",\n",
    "    [\"$root/$id.bam.fbin100\" for id in controlIds452],\n",
    "    blockLimit=Inf, blockSize=1000,\n",
    "    contextSize=4\n",
    "), \"/scratch2/slund1/pure-seq/forwardReads_c452_b4_a4.libsvm\", \"w\")"
   ]
  },
  {
   "cell_type": "code",
   "execution_count": 20,
   "metadata": {
    "collapsed": false
   },
   "outputs": [
    {
     "ename": "LoadError",
     "evalue": "interrupt\nwhile loading In[20], in expression starting on line 1",
     "output_type": "error",
     "traceback": [
      "interrupt\nwhile loading In[20], in expression starting on line 1",
      "",
      " in next at /homes/gws/slund1/.julia/v0.3/PureSeq/src/DenseBlockIterator.jl:38",
      " in write_libsvm_data at In[15]:12",
      " in anonymous at In[20]:1",
      " in open at iostream.jl:137"
     ]
    }
   ],
   "source": [
    "open(f->write_libsvm_data(\n",
    "    f,\n",
    "    \"$root/$targetId.bam.rbin100\",\n",
    "    [\"$root/$id.bam.rbin100\" for id in controlIds452],\n",
    "    blockLimit=Inf, blockSize=1000,\n",
    "    contextSize=4\n",
    "), \"/scratch2/slund1/pure-seq/reverseReads_c452_b4_a4.libsvm\", \"w\")"
   ]
  },
  {
   "cell_type": "code",
   "execution_count": null,
   "metadata": {
    "collapsed": true
   },
   "outputs": [],
   "source": []
  }
 ],
 "metadata": {
  "kernelspec": {
   "display_name": "Julia 0.3.1-pre",
   "language": "julia",
   "name": "julia 0.3"
  },
  "language_info": {
   "name": "julia",
   "version": "0.3.1"
  }
 },
 "nbformat": 4,
 "nbformat_minor": 0
}
