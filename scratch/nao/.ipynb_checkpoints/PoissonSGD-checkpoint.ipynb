{
 "cells": [
  {
   "cell_type": "code",
   "execution_count": 2,
   "metadata": {
    "collapsed": false
   },
   "outputs": [],
   "source": [
    "using PureSeq\n",
    "using DataStructures\n",
    "using Gadfly\n",
    "using GZip\n",
    "using Distributions"
   ]
  },
  {
   "cell_type": "code",
   "execution_count": 3,
   "metadata": {
    "collapsed": false
   },
   "outputs": [],
   "source": [
    "type Poisson_regression\n",
    "    #array of weights\n",
    "    w\n",
    "    #w0 constnat\n",
    "    w_0::Float64\n",
    "    #learning rate\n",
    "    eta::Float64\n",
    "    #decay rate for the learning rate \n",
    "    alpha::Float64\n",
    "    #number of samples parsed through (will be incremnted automatically)\n",
    "    n::Int64\n",
    "    #number of features\n",
    "    d::Int64\n",
    "end"
   ]
  },
  {
   "cell_type": "code",
   "execution_count": 4,
   "metadata": {
    "collapsed": false
   },
   "outputs": [
    {
     "data": {
      "text/plain": [
       "poisson_regression (generic function with 1 method)"
      ]
     },
     "execution_count": 4,
     "metadata": {},
     "output_type": "execute_result"
    }
   ],
   "source": [
    "#constructor for convenience\n",
    "function poisson_regression(;eta::Float64=0.0001, alpha::Float64=1.00, d::Int64=0)\n",
    "    if d != 0\n",
    "        model = Poisson_regression(zeros(d), 0.0, eta, alpha, 0, d)\n",
    "    else\n",
    "        model = Poisson_regression(nothing, 0.0, eta, alpha, 0, d)\n",
    "    end\n",
    "    \n",
    "    #return the model\n",
    "    model\n",
    "end \n",
    "    "
   ]
  },
  {
   "cell_type": "code",
   "execution_count": 5,
   "metadata": {
    "collapsed": false,
    "scrolled": true
   },
   "outputs": [
    {
     "data": {
      "text/plain": [
       "predict (generic function with 1 method)"
      ]
     },
     "execution_count": 5,
     "metadata": {},
     "output_type": "execute_result"
    }
   ],
   "source": [
    "#prediction using n examles (nxd matrix)\n",
    "function predict(model::Poisson_regression, x::Array{Float64,2})\n",
    "    linear_prediction = x*model.w+model.w_0\n",
    "    prediction = exp(linear_prediction)\n",
    "end"
   ]
  },
  {
   "cell_type": "code",
   "execution_count": 6,
   "metadata": {
    "collapsed": false
   },
   "outputs": [
    {
     "data": {
      "text/plain": [
       "predict (generic function with 2 methods)"
      ]
     },
     "execution_count": 6,
     "metadata": {},
     "output_type": "execute_result"
    }
   ],
   "source": [
    "#prediction using 1xd array \n",
    "function predict(model::Poisson_regression, x::Array{Float64,1})\n",
    "    linear_prediction = x*model.w+model.w_0\n",
    "    prediction = exp(linear_prediction)\n",
    "end"
   ]
  },
  {
   "cell_type": "code",
   "execution_count": 7,
   "metadata": {
    "collapsed": false,
    "scrolled": true
   },
   "outputs": [
    {
     "data": {
      "text/plain": [
       "fit (generic function with 1 method)"
      ]
     },
     "execution_count": 7,
     "metadata": {},
     "output_type": "execute_result"
    }
   ],
   "source": [
    "#takes in nxd batch data as an input, conducts stochastic gradient descent\n",
    "function fit(model::Poisson_regression, y::Array{Float64, 1}, x::Array{Float64, 2})\n",
    "    #checking if y and x match in size\n",
    "    if length(y)!=size(x)[1]\n",
    "        return nothing\n",
    "    end \n",
    "    \n",
    "    #initiating weight array if necessary\n",
    "    if model.d == 0\n",
    "        model.d = size(x)[2]\n",
    "        model.w = zeros(model.d)\n",
    "    end\n",
    "    \n",
    "    #updating info (right now its just the number of examples parsed)\n",
    "    model.n += length(y)\n",
    "    num_data = length(y)\n",
    "    \n",
    "    #making prediction\n",
    "    prediction = predict(model, x)\n",
    "    \n",
    "    #updating w_0\n",
    "    model.w_0 = model.w_0 + model.eta*(sum(y-prediction, 1)[1]*1.0/num_data)\n",
    "    \n",
    "    #updating w\n",
    "    model.w = model.w + model.eta*((transpose(x)*(y-prediction))/num_data)\n",
    "    \n",
    "    model\n",
    "end "
   ]
  },
  {
   "cell_type": "code",
   "execution_count": 8,
   "metadata": {
    "collapsed": true
   },
   "outputs": [],
   "source": [
    "#=\n",
    "#Dense block object\n",
    "type DenseBlocks\n",
    "    readers::Array{Any}\n",
    "    blockSize::Int64\n",
    "end\n",
    "=#"
   ]
  },
  {
   "cell_type": "code",
   "execution_count": 9,
   "metadata": {
    "collapsed": false
   },
   "outputs": [],
   "source": [
    "#=\n",
    "#Dense block iterator\n",
    "type DenseBlockIterator\n",
    "    readers::Array{Any}\n",
    "    blockSize::Int64\n",
    "    blockWidth::Int64\n",
    "    block::Array{Float64,2}\n",
    "    offset::Int64\n",
    "    done::Bool\n",
    "    constantColumn::Bool\n",
    "end\n",
    "\n",
    "function denseblocks(readers, blockSize::Int64; constantColumn=false)\n",
    "    #width is automatically generated by the size of readers array.\n",
    "    blockWidth = constantColumn ? length(readers) + 1 : length(readers)\n",
    "    DenseBlockIterator(readers, blockSize, blockWidth, zeros(Float64, blockSize, blockWidth), 0, false, constantColumn)\n",
    "end\n",
    "\n",
    "Base.start(it::DenseBlockIterator) = 0\n",
    "Base.done(it::DenseBlockIterator, nil) = it.done\n",
    "\n",
    "function Base.next(it::DenseBlockIterator, nil)\n",
    "    it.done = true\n",
    "    \n",
    "    if it.constantColumn\n",
    "        it.block[:,1:end-1] = 0 #set it back to 0 if needed \n",
    "    else\n",
    "        it.block[:,:] = 0\n",
    "    end\n",
    "\n",
    "    # Fill in the block\n",
    "    for i in 1:length(it.readers)\n",
    "        reader = it.readers[i]\n",
    "\n",
    "        #why do we have offset not it.offset here? (and also it.blockSize)\n",
    "        while !reader.done && reader.position <= it.offset + it.blockSize\n",
    "            #we want to log transform the reader.value using log(0.01+value) temporarily\n",
    "            it.block[reader.position - it.offset, i] += 1 #not reader.value right?\n",
    "            advance!(reader)\n",
    "            it.done = false\n",
    "        end\n",
    "    end\n",
    "\n",
    "    # See if we are really done or just found a blank block\n",
    "    if it.done\n",
    "        #it.done = it.done&& target.done\n",
    "        for i in 1:length(it.readers)\n",
    "            it.done = it.done && it.readers[i].done\n",
    "        end\n",
    "    end\n",
    "    \n",
    "    # update the offset\n",
    "    it.offset += it.blockSize\n",
    "    \n",
    "\n",
    "    #log transform the block\n",
    "\n",
    "    it.block[:,1], log(it.block[:,2:end] + 0.0001)\n",
    "end\n",
    "=#"
   ]
  },
  {
   "cell_type": "code",
   "execution_count": 10,
   "metadata": {
    "collapsed": false
   },
   "outputs": [
    {
     "data": {
      "text/plain": [
       "two_controls (generic function with 1 method)"
      ]
     },
     "execution_count": 10,
     "metadata": {},
     "output_type": "execute_result"
    }
   ],
   "source": [
    "#This is just trying to test if the poisson regression is working\n",
    "#trying to predict 1 control using two controls including the one that is being predicted.\n",
    "\n",
    "#This seems to verfiy that Poisson regression works\n",
    "\n",
    "function two_controls()\n",
    "#this is a psuedo main function now\n",
    "#READING 2 CONTROLS TO PREDICT 1 CONTROL\n",
    "\n",
    "#making an array of bamfiles\n",
    "#path of where the bam files are stored\n",
    "root = \"/scratch/hiranumn\"\n",
    "\n",
    "#reading in bam files\n",
    "#target\n",
    "target = BamReader(\"$root/ENCSR000AHE/ENCFF000QQG.bam\", false, ReferenceContigs_hg38)\n",
    "#controls \n",
    "c1 = BamReader(\"$root/ENCSR000AHE/ENCFF000QQG.bam\", false, ReferenceContigs_hg38)\n",
    "c2 = BamReader(\"$root/ENCSR000BVS/ENCFF000OXP.bam\", false, ReferenceContigs_hg38)\n",
    "readers = [target, c1, c2]\n",
    "\n",
    "#create a dense block object for controls \n",
    "blocksize = 10000\n",
    "db = denseblocks(readers, blocksize)\n",
    "\n",
    "#create a dense block object for target\n",
    "#creating a poission regressor\n",
    "model = poisson_regression(eta=0.001)\n",
    "\n",
    "#fit with poisson regression\n",
    "itr = 1\n",
    "itrlimit = 50000\n",
    "\n",
    "while itr < itrlimit\n",
    "    y, x = next(db, nil)\n",
    "    model = fit(model, y, x)\n",
    "    itr += 1\n",
    "        if itr%(itrlimit/10)==0\n",
    "        println(\"Iteration \", itr, \" complete..\")\n",
    "        println(\"cur_weight\", model.w)\n",
    "    end\n",
    "end \n",
    "\n",
    "println(blocksize*itrlimit,\" parsed.\")\n",
    "\n",
    "model \n",
    "end"
   ]
  },
  {
   "cell_type": "code",
   "execution_count": 11,
   "metadata": {
    "collapsed": false,
    "scrolled": true
   },
   "outputs": [
    {
     "data": {
      "text/plain": [
       "get_bam_paths (generic function with 1 method)"
      ]
     },
     "execution_count": 11,
     "metadata": {},
     "output_type": "execute_result"
    }
   ],
   "source": [
    "#Retrieves x random control bam files from scratch on rna.cs.washington.edu\n",
    "\n",
    "function get_bam_paths(num_controls::Int64, designated_control, seed::Int64)\n",
    "    control_bam_list::Array{String,1} = []\n",
    "    designated_control_bam_list::Array{String,1} = []\n",
    "    root = \"/scratch/hiranumn\"\n",
    "    temp = readdir(root)\n",
    "    count = 0\n",
    "    for i in 1:length(temp)\n",
    "        if length(temp[i]) > 4 && temp[i][1:5]==\"ENCSR\"\n",
    "            #println(\"Opening \",temp[i],\" [\",count,\"]\")\n",
    "            count += 1\n",
    "            subdir = temp[i]\n",
    "            files = readdir(\"$root/$subdir\")\n",
    "            for j in 1:length(files)\n",
    "                if length(files[j]) > 2 && files[j][1:3]==\"ENC\"\n",
    "                    filename = files[j]\n",
    "                    filepath = \"$root/$subdir/$filename\"\n",
    "                    if subdir != designated_control\n",
    "                        push!(control_bam_list, filepath)\n",
    "                    else\n",
    "                        #println(\"Encountered a designated control: \", filepath)\n",
    "                        push!(designated_control_bam_list, filepath)\n",
    "                    end \n",
    "                end \n",
    "            end \n",
    "        end \n",
    "    end\n",
    "    \n",
    "    #println(\"#ofControlBamFilesLoaded: \", length(control_bam_list))\n",
    "    #println(\"#ofDCBamFilesLoaded: \", length(designated_control_bam_list))\n",
    "    \n",
    "    #select num_controls random bam files to use for regression\n",
    "    srand(seed)\n",
    "    \n",
    "    if num_controls != 0\n",
    "        selected_control_bam_list = shuffle(control_bam_list)[1:num_controls]\n",
    "    else \n",
    "        selected_control_bam_list = String[]\n",
    "    end\n",
    "        \n",
    "    cat(1, designated_control_bam_list, selected_control_bam_list)\n",
    "end\n"
   ]
  },
  {
   "cell_type": "code",
   "execution_count": 13,
   "metadata": {
    "collapsed": false
   },
   "outputs": [
    {
     "data": {
      "text/plain": [
       "run_poisson_regression (generic function with 2 methods)"
      ]
     },
     "execution_count": 13,
     "metadata": {},
     "output_type": "execute_result"
    }
   ],
   "source": [
    "function createBamReaders(t, cb)\n",
    "    #buildreaders\n",
    "    r = BamReader[]\n",
    "    \n",
    "    #push in Target\n",
    "    push!(r, BamReader(t, false, ReferenceContigs_hg38))\n",
    "    \n",
    "    #push in controls\n",
    "    for i in 1:length(cb)\n",
    "        filepath = cb[i]\n",
    "        push!(r, BamReader(filepath, false, ReferenceContigs_hg38))\n",
    "    end\n",
    "    \n",
    "    r\n",
    "end \n",
    "\n",
    "function run_poisson_regression(nc, p)\n",
    "    #parameters\n",
    "    num_control = nc #number of non-designated control bam files to use\n",
    "    control = \"ENCSR173USI\" #designated control track\n",
    "    target = \"/scratch/hiranumn/target/ENCSR137ZMQ/ENCFF002EIZ.bam\" #bam file of target (1of4)\n",
    "    seed = 1234 #random seed \n",
    "    \n",
    "    control_bam = get_bam_paths(num_control, control, seed)\n",
    "    \n",
    "    #creating a poission regressor\n",
    "    model = poisson_regression(eta=0.0001)\n",
    "    \n",
    "    #conducts pass_limit*itr_limit*blocksize number of iterations\n",
    "    pass_limit = p\n",
    "    itr_limit = 20000 \n",
    "    blocksize = 10000\n",
    "    \n",
    "    #summing y for calculating baseline prediction\n",
    "    baseline_sum = 0\n",
    "\n",
    "    pass = 0\n",
    "    while pass < pass_limit\n",
    "        #Training######################################\n",
    "        #open bamreaders\n",
    "        readers = createBamReaders(target, control_bam)\n",
    "        db = denseblocks(readers, blocksize)\n",
    "        \n",
    "        #conduct inner loop\n",
    "        itr = 0\n",
    "        while itr < itr_limit\n",
    "            if itr!= 0 && itr%(itr_limit/10)==0\n",
    "                println(\"Training: Pass \", pass, \", Iteration \", itr, \" complete..\")\n",
    "                println(\"cur_weight\", model.w)\n",
    "            end\n",
    "            \n",
    "            #retrieving data\n",
    "            data = next(db, nil)[1]\n",
    "            y = data[:,1]\n",
    "            x = log(data[:,2:end] + 0.0001)\n",
    "            \n",
    "            baseline_sum += sum(y)\n",
    "            \n",
    "            model = fit(model, y, x)\n",
    "            itr += 1\n",
    "        end\n",
    "        \n",
    "        #update property for next pass \n",
    "        pass += 1\n",
    "        #Shrink learning rate by 0.8\n",
    "        model.eta = model.eta*0.8\n",
    "    end \n",
    "    println(blocksize*itr_limit*pass_limit,\" parsed for training.\")\n",
    "    \n",
    "    #calculating average y for baseline_prediction\n",
    "    baseline = baseline_sum*1.0/(blocksize*itr_limit*pass_limit)\n",
    "    println(\"Baseline prediction: \", baseline)\n",
    "    \n",
    "    \n",
    "    #Evaluation###########################################\n",
    "    #open bamreaders\n",
    "    readers = createBamReaders(target, control_bam)\n",
    "    db = denseblocks(readers, blocksize)\n",
    "    \n",
    "    itr = 0\n",
    "    sum_error = 0\n",
    "    sum_baseline_error = 0\n",
    "    while itr < itr_limit\n",
    "        if itr!= 0 && itr%(itr_limit/10)==0\n",
    "            println(\"Testing: Iteration \", itr, \" complete..\")\n",
    "        end \n",
    "        \n",
    "        #retrieving data\n",
    "        data = next(db, nil)[1]\n",
    "        y = data[:,1]\n",
    "        x = log(data[:,2:end] + 0.0001)\n",
    "        \n",
    "        predictions = predict(model, x)\n",
    "        for i in 1:length(predictions)\n",
    "            sum_error += logpdf(Poisson(predictions[i]), y[i])\n",
    "            sum_baseline_error += logpdf(Poisson(baseline), y[i])\n",
    "        end\n",
    "        itr += 1\n",
    "    end \n",
    "\n",
    "    println(\"Error: \", sum_error)\n",
    "    println(\"Baseline: \", sum_baseline_error)\n",
    "    \n",
    "    model \n",
    "end "
   ]
  },
  {
   "cell_type": "code",
   "execution_count": 15,
   "metadata": {
    "collapsed": false,
    "scrolled": true
   },
   "outputs": [
    {
     "name": "stdout",
     "output_type": "stream",
     "text": [
      "Training: Pass 0, Iteration 2000 complete..\n",
      "cur_weight[0.10520718952199769,0.10516805447617046,0.10506795255664333,0.10507239811160156]\n",
      "Training: Pass 0, Iteration 4000 complete..\n",
      "cur_weight[0.11219439671193049,0.11214706156043612,0.11200012738297356,0.11202726756870086]\n",
      "Training: Pass 0, Iteration 6000 complete..\n",
      "cur_weight[0.11972846259959846,0.11967517383803741,0.11952136063262886,0.11954051524992852]\n",
      "Training: Pass 0, Iteration 8000 complete..\n",
      "cur_weight[0.12716902463511812,0.1271187155190013,0.1269553309447391,0.12697806821703936]\n",
      "Training: Pass 0, Iteration 10000 complete..\n",
      "cur_weight[0.13046682781650276,0.13041064490586393,0.13025129401300972,0.130271604835999]\n",
      "Training: Pass 0, Iteration 12000 complete..\n",
      "cur_weight[0.12874754365198915,0.1286851655167375,0.1285205271225936,0.1285485840090568]\n",
      "Training: Pass 0, Iteration 14000 complete..\n",
      "cur_weight[0.14095207086430997,0.14089241547547404,0.14072591487001676,0.1407584683799347]\n",
      "Training: Pass 0, Iteration 16000 complete..\n",
      "cur_weight[0.13881180479061397,0.13875517445913543,0.13858919501380096,0.138630413572396]\n",
      "Training: Pass 0, Iteration 18000 complete..\n",
      "cur_weight[0.13357510009320467,0.13352510676948615,0.13334905275166872,0.13340318630990414]\n",
      "Training: Pass 1, Iteration 2000 complete..\n",
      "cur_weight[0.12862976488571765,0.12858023288310452,0.128399580790901,0.12844452304069437]\n",
      "Training: Pass 1, Iteration 4000 complete..\n",
      "cur_weight[0.12231295375811377,0.12226080872855374,0.12205782324184102,0.12211677172585944]\n",
      "Training: Pass 1, Iteration 6000 complete..\n",
      "cur_weight[0.12362883417138996,0.1235730836500384,0.12336942283298695,0.12342129880082858]\n",
      "Training: Pass 1, Iteration 8000 complete..\n",
      "cur_weight[0.12824142131746555,0.12818816968208824,0.12797811531211936,0.12803260538102254]\n",
      "Training: Pass 1, Iteration 10000 complete..\n",
      "cur_weight[0.13063769882519594,0.13057978642794013,0.1303732934334591,0.13042575047963756]\n",
      "Training: Pass 1, Iteration 12000 complete..\n",
      "cur_weight[0.12918753751312884,0.1291246767028564,0.12891424469293608,0.12897278026156045]\n",
      "Training: Pass 1, Iteration 14000 complete..\n",
      "cur_weight[0.13921734475935177,0.13915666113217473,0.1389447401616306,0.1390068740350549]\n",
      "Training: Pass 1, Iteration 16000 complete..\n",
      "cur_weight[0.1380031364972044,0.1379447673004124,0.13773317192858056,0.13780224772944977]\n",
      "Training: Pass 1, Iteration 18000 complete..\n",
      "cur_weight[0.13386327071580184,0.13381022636765721,0.13359072122195706,0.13367006900688036]\n",
      "Training: Pass 2, Iteration 2000 complete..\n",
      "cur_weight[0.12951348352106137,0.12946089876340905,0.12923857222952423,0.12931035800999494]\n",
      "Training: Pass 2, Iteration 4000 complete..\n",
      "cur_weight[0.12387468157776547,0.12382024078618915,0.12358094910590316,0.12366364917195019]\n",
      "Training: Pass 2, Iteration 6000 complete..\n",
      "cur_weight[0.12432658512809049,0.12426941561658096,0.12403031442239984,0.12410721061672561]\n",
      "Training: Pass 2, Iteration 8000 complete..\n",
      "cur_weight[0.12792907463627531,0.12787390935214069,0.1276298696174487,0.12770878542045572]\n",
      "Training: Pass 2, Iteration 10000 complete..\n",
      "cur_weight[0.13003949911136428,0.12998057421766485,0.1297393281587344,0.1298165794064438]\n",
      "Training: Pass 2, Iteration 12000 complete..\n",
      "cur_weight[0.12905428135846966,0.12899137813708095,0.12874692295891757,0.12882900272065936]\n",
      "Training: Pass 2, Iteration 14000 complete..\n",
      "cur_weight[0.13739379760990522,0.1373326340965922,0.13708698773586625,0.1371719441357981]\n",
      "Training: Pass 2, Iteration 16000 complete..\n",
      "cur_weight[0.13688306424015223,0.13682365107146577,0.13657815114108815,0.13666868135751253]\n",
      "Training: Pass 2, Iteration 18000 complete..\n",
      "cur_weight[0.13373378412139061,0.13367864228013504,0.13342674489468614,0.1335254714135151]\n",
      "600000000 parsed for training.\n",
      "Baseline prediction: 0.008685325\n",
      "Testing: Iteration 2000 complete..\n",
      "Testing: Iteration 4000 complete..\n",
      "Testing: Iteration 6000 complete..\n",
      "Testing: Iteration 8000 complete..\n",
      "Testing: Iteration 10000 complete..\n",
      "Testing: Iteration 12000 complete..\n",
      "Testing: Iteration 14000 complete..\n",
      "Testing: Iteration 16000 complete..\n",
      "Testing: Iteration 18000 complete..\n",
      "Error: -1.0281569657814715e7\n",
      "Baseline: -1.0285748995811127e7\n"
     ]
    },
    {
     "data": {
      "text/plain": [
       "Poisson_regression([0.132782,0.132737,0.13248,0.132575],-0.01510461323619823,5.120000000000001e-5,1.0,600000000,4)"
      ]
     },
     "execution_count": 15,
     "metadata": {},
     "output_type": "execute_result"
    }
   ],
   "source": [
    "model1 = run_poisson_regression(0, 3)\n"
   ]
  },
  {
   "cell_type": "code",
   "execution_count": 16,
   "metadata": {
    "collapsed": false
   },
   "outputs": [
    {
     "name": "stdout",
     "output_type": "stream",
     "text": [
      "Training: Pass 0, Iteration 2000 complete..\n",
      "cur_weight[0.0341207087149449,0.034100375113214426,0.034101787600368305,0.03409608338555559,0.034195990804150686,0.03409261285022415,0.03406297609355671,0.03409414401856207,0.034064358951091576,0.034063689902948224,0.034076558345928785,0.034115382971696195,0.03399628752064239,0.034087788825752585]\n",
      "Training: Pass 0, Iteration 4000 complete..\n",
      "cur_weight[0.033016934057963306,0.03299757313924084,0.0329724223571991,0.03298206174708183,0.03335782559930895,0.03278376830903833,0.03275858286055033,0.03279706166044635,0.03276565853950484,0.03282507263940477,0.03277954495570068,0.032826879005672896,0.03268268632956737,0.03278016346006338]\n",
      "Training: Pass 0, Iteration 6000 complete..\n",
      "cur_weight[0.03626559052624058,0.036245469787057304,0.03622240077283616,0.03622240026702323,0.03673713404000803,0.03598280946596248,0.0359451703962865,0.03600221601302906,0.035965027949196204,0.036041436491969905,0.03598073330596766,0.03604051695022732,0.03585221431719401,0.03597274127597319]\n",
      "Training: Pass 0, Iteration 8000 complete..\n",
      "cur_weight[0.03883501713237714,0.03882011971503031,0.038794112992091304,0.038795799328370864,0.03934259712348955,0.038554161147636413,0.03851183711243455,0.038579967264192834,0.03852885996882702,0.038623706351065885,0.03855694366493029,0.03861532594681498,0.03839435864872267,0.038543471733749717]\n",
      "Training: Pass 0, Iteration 10000 complete..\n",
      "cur_weight[0.03862796287039651,0.038609500428466274,0.03859230698217047,0.038590433579549416,0.03917000046346722,0.03832591486125553,0.03827805858623578,0.038354066101485805,0.03829851688047828,0.03840607920195815,0.03833387979493807,0.038393081611314564,0.03815893122268694,0.03831567116288062]\n",
      "Training: Pass 0, Iteration 12000 complete..\n",
      "cur_weight[0.036124149862336974,0.03610137393560213,0.03608461149614424,0.03608857706224921,0.036722778645155524,0.03572675920887447,0.0356781353781211,0.03576005556558518,0.0357038987726823,0.03589512695291209,0.0357414626287677,0.035805967705568854,0.035562589507499014,0.03571671804671425]\n",
      "Training: Pass 0, Iteration 14000 complete..\n",
      "cur_weight[0.04523154904991157,0.04521159193793779,0.04519294327343414,0.04520140224664275,0.045823905875374604,0.04482711269816173,0.04477816026606403,0.044859807293635735,0.04480339306732185,0.044995838918847945,0.044841511768695115,0.044906135848944574,0.044662739494367644,0.04481628703085174]\n",
      "Training: Pass 0, Iteration 16000 complete..\n",
      "cur_weight[0.03975132870857251,0.03973736746866505,0.03971914255093323,0.03973505623122129,0.04046452495307365,0.03920122524694557,0.03916300936550986,0.03923989637333044,0.03918929901253336,0.03952832432939003,0.03923222390940882,0.03928949372320598,0.039085309852048465,0.03919957185657285]\n",
      "Training: Pass 0, Iteration 18000 complete..\n",
      "cur_weight[0.03680980945147323,0.036802281103847846,0.03677738823229285,0.036805338477524804,0.03756786784496308,0.03618685520025418,0.03615126942981845,0.03623053925306607,0.03617574963809109,0.03654766246262919,0.0362195103909469,0.03628520761900528,0.03606675583250168,0.036184481551796974]\n",
      "Training: Pass 1, Iteration 2000 complete..\n",
      "cur_weight[0.035488236595492016,0.03548486693262479,0.035469057721166486,0.03548458903290304,0.03643295767450348,0.03471333162761371,0.034679942968120825,0.03476406243104315,0.0347030629523412,0.03514579106200837,0.03475741430414005,0.03483236115014029,0.03460039323452596,0.0347070714201571]\n",
      "Training: Pass 1, Iteration 4000 complete..\n",
      "cur_weight[0.03347014957604923,0.033467704864381886,0.03343162159947682,0.03345915427308511,0.0346242676024363,0.0325178645301799,0.03249079938299344,0.032577955103223956,0.03251761164536482,0.03301100944369181,0.03257301217162077,0.03265291031844821,0.03241029735331923,0.03251318974515932]\n",
      "Training: Pass 1, Iteration 6000 complete..\n",
      "cur_weight[0.036297598305981255,0.03629447161734393,0.03625988691177862,0.036279652858176525,0.03755613541814688,0.035308421011739914,0.03527106151269246,0.03537342137464635,0.03530814232919363,0.03581479329640321,0.03536514469121944,0.035455158857336216,0.035176300937635505,0.03529846571399999]\n",
      "Training: Pass 1, Iteration 8000 complete..\n",
      "cur_weight[0.038827659831217186,0.03882866834870262,0.038791470931808916,0.03881259448615091,0.040116667880745645,0.03784389791832046,0.037802013360737616,0.037914058870082507,0.037836978310483126,0.03835831122060693,0.037904232501188836,0.037993470459737194,0.03768565537656896,0.03783310233264564]\n",
      "Training: Pass 1, Iteration 10000 complete..\n",
      "cur_weight[0.038888105170705664,0.03888622048340836,0.038855941084322096,0.03887420444431929,0.04020528860123314,0.03788923305305212,0.03784257964276172,0.0379613051759339,0.037880379797176955,0.03841178269852583,0.037953613076261224,0.03804362208671743,0.03772404971014606,0.03787864035350089]\n",
      "Training: Pass 1, Iteration 12000 complete..\n",
      "cur_weight[0.036689872659817206,0.036684524633454334,0.0366547814598166,0.036677666039143124,0.038050707822996736,0.035612693780900276,0.03556600069643691,0.035688874129828206,0.035607823052886234,0.03620802424574503,0.03568266005181093,0.0357766548856715,0.035451528423657605,0.0356026448323213]\n",
      "Training: Pass 1, Iteration 14000 complete..\n",
      "cur_weight[0.04449753455965985,0.04449443860489788,0.04446318087212208,0.04448966272418633,0.04585338092090236,0.043414748328411766,0.04336778522449077,0.04349044151883784,0.04340918664895454,0.04401036898596432,0.04348446846144732,0.04357856350510372,0.04325341420169123,0.0434040728484666]\n",
      "Training: Pass 1, Iteration 16000 complete..\n",
      "cur_weight[0.04042551931103236,0.04042720038535918,0.04039624786043607,0.040428700179506484,0.041877897284064394,0.03922740958758331,0.03918881801013769,0.0393078566317574,0.03923114846452621,0.03994761230013426,0.039310285716649386,0.03939863722242065,0.03910427406209015,0.03922396110073623]\n",
      "Training: Pass 1, Iteration 18000 complete..\n",
      "cur_weight[0.03738561403845135,0.03739241104825537,0.03735666456050384,0.03739869179214787,0.03886956362908678,0.036122517606484904,0.036087505838798994,0.036206868132588485,0.036127918449756435,0.0368726338960392,0.03620717367461914,0.036301679589526833,0.03600110700053024,0.03611954286501439]\n",
      "Training: Pass 2, Iteration 2000 complete..\n",
      "cur_weight[0.035987692955666964,0.035997805185757355,0.03596961239126257,0.03600163667327218,0.03761863107355741,0.03460010384395484,0.034567741698978645,0.034690016454248095,0.034606752427232414,0.035409134154175875,0.034694284856075196,0.034795694841959136,0.03448719115869276,0.03459441730332937]\n",
      "Training: Pass 2, Iteration 4000 complete..\n",
      "cur_weight[0.03388411792981406,0.033895030491541724,0.033851027721831045,0.03389253508800247,0.035680837301626564,0.032349149616303544,0.032323052751327006,0.032446507327144776,0.03236463590710123,0.033208557452382194,0.03245284666102362,0.03255743383187318,0.03224453714935093,0.03234499005479168]\n",
      "Training: Pass 2, Iteration 6000 complete..\n",
      "cur_weight[0.03627838796950381,0.03628871011825779,0.03624580633116218,0.0362810597847153,0.038158546248912927,0.03471546954740448,0.03468096217102517,0.03481676614346192,0.034730771051338205,0.0355851296665156,0.03482035810426552,0.034933115982034975,0.03459072845136134,0.034707025796798505]\n",
      "Training: Pass 2, Iteration 8000 complete..\n",
      "cur_weight[0.03872490670877729,0.03873850171518268,0.03869327585006615,0.038729627065012324,0.04063095642401382,0.03716966891204683,0.03713083905906529,0.03727513232112077,0.03717909532653443,0.03804517353598401,0.03727720170277913,0.03738964898563826,0.0370215193569909,0.037160240313751695]\n",
      "Training: Pass 2, Iteration 10000 complete..\n",
      "cur_weight[0.03903215571204994,0.039043398541968595,0.03900356404991677,0.03903762159749268,0.04096154412068923,0.03746684966574765,0.03742377120950615,0.03757387712678251,0.03747440411154157,0.03834846696750354,0.03757748366265993,0.037690711116967826,0.037311642218432396,0.0374573899126282]\n",
      "Training: Pass 2, Iteration 12000 complete..\n",
      "cur_weight[0.03719108969683755,0.037199551194487195,0.037160246328621985,0.03719797245604317,0.0391546306830763,0.035562214051624505,0.035519397825478125,0.035672530201689985,0.035573125295091976,0.036503184652361055,0.03567742062571225,0.03579369999009261,0.03541105826301382,0.035553391938278944]\n",
      "Training: Pass 2, Iteration 14000 complete..\n",
      "cur_weight[0.04381368758157713,0.04382394880689275,0.04378342852386851,0.04382403475565796,0.04577324755966031,0.042180332035407865,0.04213729777130926,0.0422902548236506,0.04219068989516374,0.04312154237518975,0.04229534038709291,0.04241170214661873,0.04202904592203087,0.04217101062624513]\n",
      "Training: Pass 2, Iteration 16000 complete..\n",
      "cur_weight[0.04086835041664195,0.040882407149472895,0.04084207680993431,0.04088746976001236,0.04290508728458775,0.03914417927428291,0.03910755035341116,0.03925789341976805,0.039161793660257946,0.040182923924940946,0.03926956656548959,0.03938150428376809,0.039022572810989004,0.03914048196786626]\n",
      "Training: Pass 2, Iteration 18000 complete..\n",
      "cur_weight[0.03797130069658634,0.0379894365603431,0.037945652823947525,0.03799867318573948,0.040030362827751326,0.03619055427917658,0.03615778520182117,0.03630732375331967,0.03621017531088862,0.037255263828969806,0.03631767119030519,0.036434137391324194,0.036073756945986794,0.03618793946503959]\n",
      "600000000 parsed for training.\n",
      "Baseline prediction: 0.008685325\n",
      "Testing: Iteration 2000 complete..\n",
      "Testing: Iteration 4000 complete..\n",
      "Testing: Iteration 6000 complete..\n",
      "Testing: Iteration 8000 complete..\n",
      "Testing: Iteration 10000 complete..\n",
      "Testing: Iteration 12000 complete..\n",
      "Testing: Iteration 14000 complete..\n",
      "Testing: Iteration 16000 complete..\n",
      "Testing: Iteration 18000 complete..\n",
      "Error: -1.0255185290306367e7\n",
      "Baseline: -1.0285748995811127e7\n"
     ]
    },
    {
     "data": {
      "text/plain": [
       "Poisson_regression([0.0381818,0.0382105,0.0381626,0.0382113,0.04027,0.0363988,0.0363642,0.036517,0.0364185,0.0374792,0.036526,0.0366448,0.036274,0.0363935],-0.0039590470653959806,5.120000000000001e-5,1.0,600000000,14)"
      ]
     },
     "execution_count": 16,
     "metadata": {},
     "output_type": "execute_result"
    }
   ],
   "source": [
    "model1 = run_poisson_regression(10, 3)\n"
   ]
  },
  {
   "cell_type": "code",
   "execution_count": null,
   "metadata": {
    "collapsed": false
   },
   "outputs": [
    {
     "name": "stdout",
     "output_type": "stream",
     "text": [
      "Training: Pass 0, Iteration 2000 complete..\n",
      "cur_weight[0.020278628528915658,0.02026061959633632,0.020273439816526313,0.02026697619174961,0.020399042122670682,0.020145730803520296,0.020139181648902736,0.02014947630404073,0.02013581160793293,0.02017026942518013,0.020147354037685295,0.020167026613524635,0.020127060361278704,0.020145021190150478,0.020147298808257913,0.020154437554425968,0.02015754431368158,0.02024983051857283,0.020171385268420643,0.020128076289759846,0.020155477062518256,0.020133308675924208,0.020162054835382442,0.02016170107526398]\n",
      "Training: Pass 0, Iteration 4000 complete..\n",
      "cur_weight[0.019407441028710008,0.019391006511806246,0.019379133252630843,0.019387457786597888,0.019784339024332534,0.01902731104377401,0.019032324091505265,0.019042694928020062,0.019032513541150455,0.019134487491871154,0.019044780902676563,0.01906830358938992,0.01902789948905691,0.019029435179193345,0.019037182860582574,0.019048146643888427,0.019049609457938974,0.019360065044072207,0.019111476629148846,0.019012166763101416,0.01903908945448941,0.019015909432400006,0.019063430733751312,0.019117747230689094]\n",
      "Training: Pass 0, Iteration 6000 complete..\n",
      "cur_weight[0.02180091280767679,0.021784256522179506,0.021776465050694055,0.02177501107278697,0.022292992656345084,0.02132971787295299,0.02133069753045407,0.02135084694568087,0.021341480972059783,0.02146503975173792,0.02135321290089976,0.021384618400570467,0.021326303526112998,0.02132797173757397,0.021333280215210648,0.021359821663921804,0.021365050622118457,0.021742212644920926,0.0214463952830806,0.021304275823756706,0.021347940891475195,0.021318992903199593,0.021381101347698692,0.02142765754496739]\n",
      "Training: Pass 0, Iteration 8000 complete..\n",
      "cur_weight[0.02330631663832635,0.023295042431986383,0.023285715004722235,0.023285711824001732,0.02382041293482789,0.02281303091587355,0.022815003855587324,0.022840319128686563,0.022821795023510446,0.022963224117773247,0.022843329810077823,0.022870793194465163,0.022800839898565697,0.022813203232712024,0.022805460764428038,0.022847774772936796,0.02285287389024342,0.023248176454542014,0.022939132543494327,0.022777915745389943,0.022836912497854796,0.022803521304000218,0.02286422565559138,0.0229089339544498]\n",
      "Training: Pass 0, Iteration 10000 complete..\n",
      "cur_weight[0.022861252597491024,0.02284663107374532,0.022846920766436445,0.022843285612524793,0.023400812931120837,0.022331086589083435,0.022331471599463967,0.022360547249332195,0.022340698364792824,0.022494716111278713,0.022367836071639075,0.022394514092237066,0.02232550611395465,0.02233350793200013,0.022329599049359466,0.022370421764813762,0.022375890960431234,0.022792263024735093,0.02246766202563233,0.022299700735667564,0.022356495006156118,0.022318511278443618,0.022387589524897566,0.022436620131752894]\n",
      "Training: Pass 0, Iteration 12000 complete..\n",
      "cur_weight[0.02117782029086789,0.021158989011915274,0.021160197691715323,0.021162292194007608,0.021763341582434318,0.020538756675186207,0.020540876608050967,0.020573234376254176,0.020554805376599074,0.020799068587811022,0.020582978229857322,0.020614010958128433,0.020545624064396584,0.020543002961122332,0.02054596357705572,0.020582112426998367,0.02059275577432683,0.021090008383896252,0.020723661323559378,0.02052177598023714,0.020562483667275745,0.020529733467675094,0.020608413122550656,0.02070202012236472]\n",
      "Training: Pass 0, Iteration 14000 complete..\n",
      "cur_weight[0.028454201220228945,0.02843820819195797,0.02843754238232791,0.028444148394603234,0.029032734309056354,0.02780721623331389,0.027809206566401054,0.02784112665567727,0.02782253248906421,0.028068180431193968,0.027851182850097064,0.02788223570402986,0.027814456199262594,0.027810748127329366,0.027815543632844927,0.027850303772711957,0.0278609800342181,0.028367269503321024,0.027991988700517077,0.027789786704910766,0.027830696434901075,0.02779755867406484,0.027876608001711572,0.027980425429265744]\n",
      "Training: Pass 0, Iteration 16000 complete..\n",
      "cur_weight[0.02263268401500301,0.02262277693579075,0.022622626599531348,0.022636620207002196,0.02333062831915482,0.021833145467554976,0.021847260438287257,0.021873101847114235,0.021861130885449807,0.022262250878058974,0.021894426746733166,0.02191728984816832,0.021893290238688183,0.021846635771955773,0.021868376192171215,0.02187713613320314,0.021889038800168258,0.022513069654681195,0.022144349880413184,0.021858188652168556,0.02184802341385242,0.021843056200026714,0.021916935541166156,0.022146486339344608]\n",
      "Training: Pass "
     ]
    }
   ],
   "source": [
    "model2 = run_poisson_regression(20, 3)"
   ]
  },
  {
   "cell_type": "code",
   "execution_count": null,
   "metadata": {
    "collapsed": true
   },
   "outputs": [],
   "source": []
  }
 ],
 "metadata": {
  "kernelspec": {
   "display_name": "Julia 0.3.8",
   "language": "julia",
   "name": "julia-0.3"
  },
  "language_info": {
   "name": "julia",
   "version": "0.3.8"
  }
 },
 "nbformat": 4,
 "nbformat_minor": 0
}
