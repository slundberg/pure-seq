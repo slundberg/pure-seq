{
 "cells": [
  {
   "cell_type": "code",
   "execution_count": 53,
   "metadata": {
    "collapsed": false
   },
   "outputs": [],
   "source": [
    "@everywhere using PureSeq"
   ]
  },
  {
   "cell_type": "code",
   "execution_count": 2,
   "metadata": {
    "collapsed": false
   },
   "outputs": [
    {
     "data": {
      "text/plain": [
       "train_against_controls (generic function with 1 method)"
      ]
     },
     "execution_count": 2,
     "metadata": {},
     "output_type": "execute_result"
    }
   ],
   "source": [
    "function train_against_controls(targetFile, controlFiles; blockSize=100000, blockLimit=Inf)\n",
    "    \n",
    "    # build our control feature maps\n",
    "    readers = [BinningMap(BamReader(controlFiles[i], false, ReferenceContigs_hg38), 1000) for i in 1:length(controlFiles)]\n",
    "    \n",
    "    # our target reader\n",
    "    target = BinningMap(BamReader(targetFile, false, ReferenceContigs_hg38), 1000)\n",
    "\n",
    "    # we want to compute XtX and Xty block by block\n",
    "    P = length(controlFiles) + 1\n",
    "    XtX = zeros(P,P)\n",
    "    Xty = zeros(P)\n",
    "    printInterval = int(min(blockLimit, int(sum(ReferenceContigs_hg38.sizes)/blockSize))/10)\n",
    "    \n",
    "    # use denseblocks to iterate over blocks of the target and control data\n",
    "    count = 0\n",
    "    sse = 0.0\n",
    "    sseTest = Float64[]\n",
    "    for (target,control) in zip(denseblocks([target], blockSize), denseblocks(readers, blockSize, constantColumn=true, loop=true))\n",
    "        count += 1\n",
    "        if count > blockLimit break end\n",
    "        \n",
    "        # compute the betas for this data up to this point and get our test error on the next block\n",
    "        betas = inv(XtX + 0.00001*eye(P))*Xty\n",
    "        sse = sum((target - control*betas).^2)\n",
    "        push!(sseTest, sse)\n",
    "\n",
    "        # update our estimates\n",
    "        XtX .+= control'control\n",
    "        Xty .+= control'target\n",
    "        \n",
    "        if count % printInterval == 0\n",
    "            println(\"Processed $(count*blockSize) positions...\")\n",
    "        end\n",
    "    end\n",
    "    betas = inv(XtX + 0.00001*eye(P))*Xty\n",
    "    betas,sseTest\n",
    "end"
   ]
  },
  {
   "cell_type": "code",
   "execution_count": 54,
   "metadata": {
    "collapsed": false
   },
   "outputs": [
    {
     "data": {
      "text/plain": [
       "7-element Array{ASCIIString,1}:\n",
       " \"ENCFF000ODO\"\n",
       " \"ENCFF000ODV\"\n",
       " \"ENCFF000ODZ\"\n",
       " \"ENCFF000OEB\"\n",
       " \"ENCFF000NGK\"\n",
       " \"ENCFF000NGM\"\n",
       " \"ENCFF000NGN\""
      ]
     },
     "execution_count": 54,
     "metadata": {},
     "output_type": "execute_result"
    }
   ],
   "source": [
    "@everywhere root = \"/scratch2/slund1/ENCSR000BQS_notebook\"\n",
    "targetId = \"ENCFF000NYK\"\n",
    "controlIds7 = [\n",
    "    \"ENCFF000ODO\", # designated control\n",
    "    \"ENCFF000ODV\", # another GM12878 control (rep1)\n",
    "    \"ENCFF000ODZ\", # another GM12878 control (rep2)\n",
    "    \"ENCFF000OEB\", # another GM12878 control (rep3)\n",
    "    \"ENCFF000NGK\",\n",
    "    \"ENCFF000NGM\",\n",
    "    \"ENCFF000NGN\"\n",
    "]\n",
    "# @time betas7,sseTest7 = train_against_controls(\n",
    "#     \"$root/$targetId.bam\",\n",
    "#     [\"$root/$id.bam\" for id in controlIds7],\n",
    "#     blockLimit=40\n",
    "# )"
   ]
  },
  {
   "cell_type": "code",
   "execution_count": 55,
   "metadata": {
    "collapsed": false,
    "scrolled": true
   },
   "outputs": [],
   "source": [
    "@everywhere function convert_to_binned(bamFile, binSize, useReverseReads)\n",
    "    bm = BinningMap(BamReader(bamFile, useReverseReads, ReferenceContigs_hg38), binSize)\n",
    "    out = open(bamFile*\".\"*(useReverseReads ? \"r\" : \"f\")*\"bin$binSize\", \"w\")\n",
    "    while !eof(bm)\n",
    "        write(out, uint32(bm.position))\n",
    "        write(out, uint32(bm.value))\n",
    "        advance!(bm)\n",
    "    end\n",
    "    close(out)\n",
    "end"
   ]
  },
  {
   "cell_type": "code",
   "execution_count": 56,
   "metadata": {
    "collapsed": false
   },
   "outputs": [],
   "source": [
    "idsToMap = [\n",
    "    \"ENCFF000NYK\", # target\n",
    "    \"ENCFF000ODO\", # designated control\n",
    "    \"ENCFF000ODV\", # another GM12878 control (rep1)\n",
    "    \"ENCFF000ODZ\", # another GM12878 control (rep2)\n",
    "    \"ENCFF000OEB\", # another GM12878 control (rep3)\n",
    "    \"ENCFF000NGK\",\n",
    "    \"ENCFF000NGM\",\n",
    "    \"ENCFF000NGN\",\n",
    "    \"ENCFF000QET\",\n",
    "    \"ENCFF000QEU\",\n",
    "    \"ENCFF000QFL\",\n",
    "    \"ENCFF000QFS\",\n",
    "    \"ENCFF000RCB\",\n",
    "    \"ENCFF000RCC\",\n",
    "    \"ENCFF000RCF\",\n",
    "    \"ENCFF000RPT\",\n",
    "    \"ENCFF000SAZ\",\n",
    "    \"ENCFF000VPI\",\n",
    "    \"ENCFF000VPK\",\n",
    "    \"ENCFF000WIQ\",\n",
    "    \"ENCFF000WIX\",\n",
    "    \"ENCFF000WPT\",\n",
    "    \"ENCFF000WPV\",\n",
    "    \"ENCFF000XOO\",\n",
    "    \"ENCFF000XRH\",\n",
    "    \"ENCFF000XRI\",\n",
    "    \"ENCFF000XTE\",\n",
    "    \"ENCFF000YPF\",\n",
    "    \"ENCFF000YPM\",\n",
    "    \"ENCFF000YRC\",\n",
    "    \"ENCFF000YRN\",\n",
    "    \"ENCFF000ZSI\",\n",
    "    \"ENCFF000ZVJ\",\n",
    "    \"ENCFF000ZVV\",\n",
    "    \"ENCFF001HAV\",\n",
    "    \"ENCFF001HGV\"\n",
    "]\n",
    "\n",
    "@parallel for id in idsToMap\n",
    "    convert_to_binned(\"$root/$id.bam\", 100, false)\n",
    "    convert_to_binned(\"$root/$id.bam\", 100, true)\n",
    "end"
   ]
  },
  {
   "cell_type": "code",
   "execution_count": 24,
   "metadata": {
    "collapsed": false
   },
   "outputs": [
    {
     "name": "stdout",
     "output_type": "stream",
     "text": [
      "elapsed time: 33.6072523 seconds (1634475420 bytes allocated, 4.29% gc time)\n"
     ]
    }
   ],
   "source": [
    "@time convert_to_binned(\"$root/$targetId.bam\", 100, false)"
   ]
  },
  {
   "cell_type": "code",
   "execution_count": 49,
   "metadata": {
    "collapsed": false
   },
   "outputs": [
    {
     "data": {
      "text/plain": [
       "read_binned (generic function with 1 method)"
      ]
     },
     "execution_count": 49,
     "metadata": {},
     "output_type": "execute_result"
    }
   ],
   "source": [
    "function read_binned(fileName, binSize)\n",
    "    f = open(fileName)\n",
    "    pair = zeros(Uint32, 2)\n",
    "    count = 0\n",
    "    while !eof(f)\n",
    "        read!(f, pair)\n",
    "        count += 1\n",
    "    end\n",
    "    close(f)\n",
    "end"
   ]
  },
  {
   "cell_type": "code",
   "execution_count": 50,
   "metadata": {
    "collapsed": false
   },
   "outputs": [
    {
     "name": "stdout",
     "output_type": "stream",
     "text": [
      "5475880\n",
      "elapsed time: 0.203038833 seconds (594768 bytes allocated)\n"
     ]
    }
   ],
   "source": [
    "@time read_binned(\"$root/ENCFF000NYK.bam.fbin100\", 100)"
   ]
  },
  {
   "cell_type": "code",
   "execution_count": null,
   "metadata": {
    "collapsed": true
   },
   "outputs": [],
   "source": [
    "type BinnedReader\n",
    "    fileStream\n",
    "    position::Int64\n",
    "    value::Float64\n",
    "end\n",
    "\n",
    "function BinnedReader(fileName::ASCIIString)\n",
    "    f = open(fileName)\n",
    "    br = BinnedReader(f, 0, 0.0)\n",
    "    advance!(br)\n",
    "    br\n",
    "end\n",
    "close(fm::BinnedReader) = close(fm.reader)\n",
    "value(fm::BinnedReader) = fm.value\n",
    "position(fm::BinnedReader) = fm.position\n",
    "eof(fm::BinnedReader) = fm.position <= 0\n",
    "\n",
    "function advance!(fm::BinnedReader)\n",
    "    fm.position = floor((fm.reader.position-1)/fm.binSize) + 1\n",
    "    binEnd = fm.position*fm.binSize\n",
    "    \n",
    "    # Fill in the bin\n",
    "    fm.value = 0.0\n",
    "    while fm.reader.position != -1 && fm.reader.position <= binEnd\n",
    "        fm.value += 1\n",
    "        PureSeq.advance!(fm.reader)\n",
    "    end\n",
    "end"
   ]
  }
 ],
 "metadata": {
  "kernelspec": {
   "display_name": "Julia 0.3.1-pre",
   "language": "julia",
   "name": "julia 0.3"
  },
  "language_info": {
   "name": "julia",
   "version": "0.3.1"
  }
 },
 "nbformat": 4,
 "nbformat_minor": 0
}
